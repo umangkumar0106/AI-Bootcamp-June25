{
  "nbformat": 4,
  "nbformat_minor": 0,
  "metadata": {
    "colab": {
      "provenance": []
    },
    "kernelspec": {
      "name": "python3",
      "display_name": "Python 3"
    },
    "language_info": {
      "name": "python"
    }
  },
  "cells": [
    {
      "cell_type": "code",
      "execution_count": 1,
      "metadata": {
        "colab": {
          "base_uri": "https://localhost:8080/"
        },
        "id": "iHwiUlvpOCVq",
        "outputId": "49efd602-14f6-4d6b-dc6f-c021b66ab516"
      },
      "outputs": [
        {
          "output_type": "stream",
          "name": "stdout",
          "text": [
            "Enter first number: 10\n",
            "Enter second number: 20\n",
            "Choose operation: +, -, *, /\n",
            "Enter operation: +\n",
            "Result: 30.0\n"
          ]
        }
      ],
      "source": [
        "\n",
        "num1 = float(input(\"Enter first number: \"))\n",
        "num2 = float(input(\"Enter second number: \"))\n",
        "\n",
        "print(\"Choose operation: +, -, *, /\")\n",
        "operation = input(\"Enter operation: \")\n",
        "\n",
        "if operation == '+':\n",
        "    result = num1 + num2\n",
        "elif operation == '-':\n",
        "    result = num1 - num2\n",
        "elif operation == '*':\n",
        "    result = num1 * num2\n",
        "elif operation == '/':\n",
        "    if num2 != 0:\n",
        "        result = num1 / num2\n",
        "    else:\n",
        "        result = \"Cannot divide by zero!\"\n",
        "else:\n",
        "    result = \"Invalid operation!\"\n",
        "\n",
        "print(\"Result:\", result)\n"
      ]
    }
  ]
}